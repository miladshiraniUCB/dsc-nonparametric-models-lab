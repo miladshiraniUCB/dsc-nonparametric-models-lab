{
 "cells": [
  {
   "cell_type": "markdown",
   "metadata": {},
   "source": [
    "Link is [here](https://github.com/miladshiraniUCB/dsc-nonparametric-models-lab.git) or:\n",
    "\n",
    "```\n",
    "https://github.com/miladshiraniUCB/dsc-nonparametric-models-lab.git\n",
    "```"
   ]
  },
  {
   "cell_type": "markdown",
   "metadata": {},
   "source": [
    "# Nonparametric ML Models - Cumulative Lab\n",
    "\n",
    "## Introduction\n",
    "\n",
    "In this cumulative lab, you will apply two nonparametric models you have just learned — k-nearest neighbors and decision trees — to the forest cover dataset.\n",
    "\n",
    "## Objectives\n",
    "\n",
    "* Practice identifying and applying appropriate preprocessing steps\n",
    "* Perform an iterative modeling process, starting from a baseline model\n",
    "* Explore multiple model algorithms, and tune their hyperparameters\n",
    "* Practice choosing a final model across multiple model algorithms and evaluating its performance"
   ]
  },
  {
   "cell_type": "markdown",
   "metadata": {},
   "source": [
    "## Your Task: Complete an End-to-End ML Process with Nonparametric Models on the Forest Cover Dataset\n",
    "\n",
    "![line of pine trees](images/trees.jpg)\n",
    "\n",
    "Photo by <a href=\"https://unsplash.com/@michaelbenz?utm_source=unsplash&utm_medium=referral&utm_content=creditCopyText\">Michael Benz</a> on <a href=\"/s/photos/forest?utm_source=unsplash&utm_medium=referral&utm_content=creditCopyText\">Unsplash</a>"
   ]
  },
  {
   "cell_type": "markdown",
   "metadata": {},
   "source": [
    "### Business and Data Understanding\n",
    "\n",
    "To repeat the previous description:\n",
    "\n",
    "> Here we will be using an adapted version of the forest cover dataset from the [UCI Machine Learning Repository](https://archive.ics.uci.edu/ml/datasets/covertype). Each record represents a 30 x 30 meter cell of land within Roosevelt National Forest in northern Colorado, which has been labeled as `Cover_Type` 1 for \"Cottonwood/Willow\" and `Cover_Type` 0 for \"Ponderosa Pine\". (The original dataset contained 7 cover types but we have simplified it.)\n",
    "\n",
    "The task is to predict the `Cover_Type` based on the available cartographic variables:"
   ]
  },
  {
   "cell_type": "code",
   "execution_count": 3,
   "metadata": {},
   "outputs": [
    {
     "data": {
      "text/html": [
       "<div>\n",
       "<style scoped>\n",
       "    .dataframe tbody tr th:only-of-type {\n",
       "        vertical-align: middle;\n",
       "    }\n",
       "\n",
       "    .dataframe tbody tr th {\n",
       "        vertical-align: top;\n",
       "    }\n",
       "\n",
       "    .dataframe thead th {\n",
       "        text-align: right;\n",
       "    }\n",
       "</style>\n",
       "<table border=\"1\" class=\"dataframe\">\n",
       "  <thead>\n",
       "    <tr style=\"text-align: right;\">\n",
       "      <th></th>\n",
       "      <th>Elevation</th>\n",
       "      <th>Aspect</th>\n",
       "      <th>Slope</th>\n",
       "      <th>Horizontal_Distance_To_Hydrology</th>\n",
       "      <th>Vertical_Distance_To_Hydrology</th>\n",
       "      <th>Horizontal_Distance_To_Roadways</th>\n",
       "      <th>Hillshade_9am</th>\n",
       "      <th>Hillshade_Noon</th>\n",
       "      <th>Hillshade_3pm</th>\n",
       "      <th>Horizontal_Distance_To_Fire_Points</th>\n",
       "      <th>...</th>\n",
       "      <th>Soil_Type_31</th>\n",
       "      <th>Soil_Type_32</th>\n",
       "      <th>Soil_Type_33</th>\n",
       "      <th>Soil_Type_34</th>\n",
       "      <th>Soil_Type_35</th>\n",
       "      <th>Soil_Type_36</th>\n",
       "      <th>Soil_Type_37</th>\n",
       "      <th>Soil_Type_38</th>\n",
       "      <th>Soil_Type_39</th>\n",
       "      <th>Cover_Type</th>\n",
       "    </tr>\n",
       "  </thead>\n",
       "  <tbody>\n",
       "    <tr>\n",
       "      <th>0</th>\n",
       "      <td>2553</td>\n",
       "      <td>235</td>\n",
       "      <td>17</td>\n",
       "      <td>351</td>\n",
       "      <td>95</td>\n",
       "      <td>780</td>\n",
       "      <td>188</td>\n",
       "      <td>253</td>\n",
       "      <td>199</td>\n",
       "      <td>1410</td>\n",
       "      <td>...</td>\n",
       "      <td>0</td>\n",
       "      <td>0</td>\n",
       "      <td>0</td>\n",
       "      <td>0</td>\n",
       "      <td>0</td>\n",
       "      <td>0</td>\n",
       "      <td>0</td>\n",
       "      <td>0</td>\n",
       "      <td>0</td>\n",
       "      <td>0</td>\n",
       "    </tr>\n",
       "    <tr>\n",
       "      <th>1</th>\n",
       "      <td>2011</td>\n",
       "      <td>344</td>\n",
       "      <td>17</td>\n",
       "      <td>313</td>\n",
       "      <td>29</td>\n",
       "      <td>404</td>\n",
       "      <td>183</td>\n",
       "      <td>211</td>\n",
       "      <td>164</td>\n",
       "      <td>300</td>\n",
       "      <td>...</td>\n",
       "      <td>0</td>\n",
       "      <td>0</td>\n",
       "      <td>0</td>\n",
       "      <td>0</td>\n",
       "      <td>0</td>\n",
       "      <td>0</td>\n",
       "      <td>0</td>\n",
       "      <td>0</td>\n",
       "      <td>0</td>\n",
       "      <td>0</td>\n",
       "    </tr>\n",
       "    <tr>\n",
       "      <th>2</th>\n",
       "      <td>2022</td>\n",
       "      <td>24</td>\n",
       "      <td>13</td>\n",
       "      <td>391</td>\n",
       "      <td>42</td>\n",
       "      <td>509</td>\n",
       "      <td>212</td>\n",
       "      <td>212</td>\n",
       "      <td>134</td>\n",
       "      <td>421</td>\n",
       "      <td>...</td>\n",
       "      <td>0</td>\n",
       "      <td>0</td>\n",
       "      <td>0</td>\n",
       "      <td>0</td>\n",
       "      <td>0</td>\n",
       "      <td>0</td>\n",
       "      <td>0</td>\n",
       "      <td>0</td>\n",
       "      <td>0</td>\n",
       "      <td>0</td>\n",
       "    </tr>\n",
       "    <tr>\n",
       "      <th>3</th>\n",
       "      <td>2038</td>\n",
       "      <td>50</td>\n",
       "      <td>17</td>\n",
       "      <td>408</td>\n",
       "      <td>71</td>\n",
       "      <td>474</td>\n",
       "      <td>226</td>\n",
       "      <td>200</td>\n",
       "      <td>102</td>\n",
       "      <td>283</td>\n",
       "      <td>...</td>\n",
       "      <td>0</td>\n",
       "      <td>0</td>\n",
       "      <td>0</td>\n",
       "      <td>0</td>\n",
       "      <td>0</td>\n",
       "      <td>0</td>\n",
       "      <td>0</td>\n",
       "      <td>0</td>\n",
       "      <td>0</td>\n",
       "      <td>0</td>\n",
       "    </tr>\n",
       "    <tr>\n",
       "      <th>4</th>\n",
       "      <td>2018</td>\n",
       "      <td>341</td>\n",
       "      <td>27</td>\n",
       "      <td>351</td>\n",
       "      <td>34</td>\n",
       "      <td>390</td>\n",
       "      <td>152</td>\n",
       "      <td>188</td>\n",
       "      <td>168</td>\n",
       "      <td>190</td>\n",
       "      <td>...</td>\n",
       "      <td>0</td>\n",
       "      <td>0</td>\n",
       "      <td>0</td>\n",
       "      <td>0</td>\n",
       "      <td>0</td>\n",
       "      <td>0</td>\n",
       "      <td>0</td>\n",
       "      <td>0</td>\n",
       "      <td>0</td>\n",
       "      <td>0</td>\n",
       "    </tr>\n",
       "    <tr>\n",
       "      <th>...</th>\n",
       "      <td>...</td>\n",
       "      <td>...</td>\n",
       "      <td>...</td>\n",
       "      <td>...</td>\n",
       "      <td>...</td>\n",
       "      <td>...</td>\n",
       "      <td>...</td>\n",
       "      <td>...</td>\n",
       "      <td>...</td>\n",
       "      <td>...</td>\n",
       "      <td>...</td>\n",
       "      <td>...</td>\n",
       "      <td>...</td>\n",
       "      <td>...</td>\n",
       "      <td>...</td>\n",
       "      <td>...</td>\n",
       "      <td>...</td>\n",
       "      <td>...</td>\n",
       "      <td>...</td>\n",
       "      <td>...</td>\n",
       "      <td>...</td>\n",
       "    </tr>\n",
       "    <tr>\n",
       "      <th>38496</th>\n",
       "      <td>2396</td>\n",
       "      <td>153</td>\n",
       "      <td>20</td>\n",
       "      <td>85</td>\n",
       "      <td>17</td>\n",
       "      <td>108</td>\n",
       "      <td>240</td>\n",
       "      <td>237</td>\n",
       "      <td>118</td>\n",
       "      <td>837</td>\n",
       "      <td>...</td>\n",
       "      <td>0</td>\n",
       "      <td>0</td>\n",
       "      <td>0</td>\n",
       "      <td>0</td>\n",
       "      <td>0</td>\n",
       "      <td>0</td>\n",
       "      <td>0</td>\n",
       "      <td>0</td>\n",
       "      <td>0</td>\n",
       "      <td>0</td>\n",
       "    </tr>\n",
       "    <tr>\n",
       "      <th>38497</th>\n",
       "      <td>2391</td>\n",
       "      <td>152</td>\n",
       "      <td>19</td>\n",
       "      <td>67</td>\n",
       "      <td>12</td>\n",
       "      <td>95</td>\n",
       "      <td>240</td>\n",
       "      <td>237</td>\n",
       "      <td>119</td>\n",
       "      <td>845</td>\n",
       "      <td>...</td>\n",
       "      <td>0</td>\n",
       "      <td>0</td>\n",
       "      <td>0</td>\n",
       "      <td>0</td>\n",
       "      <td>0</td>\n",
       "      <td>0</td>\n",
       "      <td>0</td>\n",
       "      <td>0</td>\n",
       "      <td>0</td>\n",
       "      <td>0</td>\n",
       "    </tr>\n",
       "    <tr>\n",
       "      <th>38498</th>\n",
       "      <td>2386</td>\n",
       "      <td>159</td>\n",
       "      <td>17</td>\n",
       "      <td>60</td>\n",
       "      <td>7</td>\n",
       "      <td>90</td>\n",
       "      <td>236</td>\n",
       "      <td>241</td>\n",
       "      <td>130</td>\n",
       "      <td>854</td>\n",
       "      <td>...</td>\n",
       "      <td>0</td>\n",
       "      <td>0</td>\n",
       "      <td>0</td>\n",
       "      <td>0</td>\n",
       "      <td>0</td>\n",
       "      <td>0</td>\n",
       "      <td>0</td>\n",
       "      <td>0</td>\n",
       "      <td>0</td>\n",
       "      <td>0</td>\n",
       "    </tr>\n",
       "    <tr>\n",
       "      <th>38499</th>\n",
       "      <td>2384</td>\n",
       "      <td>170</td>\n",
       "      <td>15</td>\n",
       "      <td>60</td>\n",
       "      <td>5</td>\n",
       "      <td>90</td>\n",
       "      <td>230</td>\n",
       "      <td>245</td>\n",
       "      <td>143</td>\n",
       "      <td>864</td>\n",
       "      <td>...</td>\n",
       "      <td>0</td>\n",
       "      <td>0</td>\n",
       "      <td>0</td>\n",
       "      <td>0</td>\n",
       "      <td>0</td>\n",
       "      <td>0</td>\n",
       "      <td>0</td>\n",
       "      <td>0</td>\n",
       "      <td>0</td>\n",
       "      <td>0</td>\n",
       "    </tr>\n",
       "    <tr>\n",
       "      <th>38500</th>\n",
       "      <td>2383</td>\n",
       "      <td>165</td>\n",
       "      <td>13</td>\n",
       "      <td>60</td>\n",
       "      <td>4</td>\n",
       "      <td>67</td>\n",
       "      <td>231</td>\n",
       "      <td>244</td>\n",
       "      <td>141</td>\n",
       "      <td>875</td>\n",
       "      <td>...</td>\n",
       "      <td>0</td>\n",
       "      <td>0</td>\n",
       "      <td>0</td>\n",
       "      <td>0</td>\n",
       "      <td>0</td>\n",
       "      <td>0</td>\n",
       "      <td>0</td>\n",
       "      <td>0</td>\n",
       "      <td>0</td>\n",
       "      <td>0</td>\n",
       "    </tr>\n",
       "  </tbody>\n",
       "</table>\n",
       "<p>38501 rows × 53 columns</p>\n",
       "</div>"
      ],
      "text/plain": [
       "       Elevation  Aspect  Slope  Horizontal_Distance_To_Hydrology  \\\n",
       "0           2553     235     17                               351   \n",
       "1           2011     344     17                               313   \n",
       "2           2022      24     13                               391   \n",
       "3           2038      50     17                               408   \n",
       "4           2018     341     27                               351   \n",
       "...          ...     ...    ...                               ...   \n",
       "38496       2396     153     20                                85   \n",
       "38497       2391     152     19                                67   \n",
       "38498       2386     159     17                                60   \n",
       "38499       2384     170     15                                60   \n",
       "38500       2383     165     13                                60   \n",
       "\n",
       "       Vertical_Distance_To_Hydrology  Horizontal_Distance_To_Roadways  \\\n",
       "0                                  95                              780   \n",
       "1                                  29                              404   \n",
       "2                                  42                              509   \n",
       "3                                  71                              474   \n",
       "4                                  34                              390   \n",
       "...                               ...                              ...   \n",
       "38496                              17                              108   \n",
       "38497                              12                               95   \n",
       "38498                               7                               90   \n",
       "38499                               5                               90   \n",
       "38500                               4                               67   \n",
       "\n",
       "       Hillshade_9am  Hillshade_Noon  Hillshade_3pm  \\\n",
       "0                188             253            199   \n",
       "1                183             211            164   \n",
       "2                212             212            134   \n",
       "3                226             200            102   \n",
       "4                152             188            168   \n",
       "...              ...             ...            ...   \n",
       "38496            240             237            118   \n",
       "38497            240             237            119   \n",
       "38498            236             241            130   \n",
       "38499            230             245            143   \n",
       "38500            231             244            141   \n",
       "\n",
       "       Horizontal_Distance_To_Fire_Points  ...  Soil_Type_31  Soil_Type_32  \\\n",
       "0                                    1410  ...             0             0   \n",
       "1                                     300  ...             0             0   \n",
       "2                                     421  ...             0             0   \n",
       "3                                     283  ...             0             0   \n",
       "4                                     190  ...             0             0   \n",
       "...                                   ...  ...           ...           ...   \n",
       "38496                                 837  ...             0             0   \n",
       "38497                                 845  ...             0             0   \n",
       "38498                                 854  ...             0             0   \n",
       "38499                                 864  ...             0             0   \n",
       "38500                                 875  ...             0             0   \n",
       "\n",
       "       Soil_Type_33  Soil_Type_34  Soil_Type_35  Soil_Type_36  Soil_Type_37  \\\n",
       "0                 0             0             0             0             0   \n",
       "1                 0             0             0             0             0   \n",
       "2                 0             0             0             0             0   \n",
       "3                 0             0             0             0             0   \n",
       "4                 0             0             0             0             0   \n",
       "...             ...           ...           ...           ...           ...   \n",
       "38496             0             0             0             0             0   \n",
       "38497             0             0             0             0             0   \n",
       "38498             0             0             0             0             0   \n",
       "38499             0             0             0             0             0   \n",
       "38500             0             0             0             0             0   \n",
       "\n",
       "       Soil_Type_38  Soil_Type_39  Cover_Type  \n",
       "0                 0             0           0  \n",
       "1                 0             0           0  \n",
       "2                 0             0           0  \n",
       "3                 0             0           0  \n",
       "4                 0             0           0  \n",
       "...             ...           ...         ...  \n",
       "38496             0             0           0  \n",
       "38497             0             0           0  \n",
       "38498             0             0           0  \n",
       "38499             0             0           0  \n",
       "38500             0             0           0  \n",
       "\n",
       "[38501 rows x 53 columns]"
      ]
     },
     "execution_count": 3,
     "metadata": {},
     "output_type": "execute_result"
    }
   ],
   "source": [
    "# Run this cell without changes\n",
    "import pandas as pd\n",
    "\n",
    "df = pd.read_csv('data/forest_cover.csv')\n",
    "df"
   ]
  },
  {
   "cell_type": "markdown",
   "metadata": {},
   "source": [
    "> As you can see, we have over 38,000 rows, each with 52 feature columns and 1 target column:\n",
    "\n",
    "> * `Elevation`: Elevation in meters\n",
    "> * `Aspect`: Aspect in degrees azimuth\n",
    "> * `Slope`: Slope in degrees\n",
    "> * `Horizontal_Distance_To_Hydrology`: Horizontal dist to nearest surface water features in meters\n",
    "> * `Vertical_Distance_To_Hydrology`: Vertical dist to nearest surface water features in meters\n",
    "> * `Horizontal_Distance_To_Roadways`: Horizontal dist to nearest roadway in meters\n",
    "> * `Hillshade_9am`: Hillshade index at 9am, summer solstice\n",
    "> * `Hillshade_Noon`: Hillshade index at noon, summer solstice\n",
    "> * `Hillshade_3pm`: Hillshade index at 3pm, summer solstice\n",
    "> * `Horizontal_Distance_To_Fire_Points`: Horizontal dist to nearest wildfire ignition points, meters\n",
    "> * `Wilderness_Area_x`: Wilderness area designation (3 columns)\n",
    "> * `Soil_Type_x`: Soil Type designation (39 columns)\n",
    "> * `Cover_Type`: 1 for cottonwood/willow, 0 for ponderosa pine\n",
    "\n",
    "This is also an imbalanced dataset, since cottonwood/willow trees are relatively rare in this forest:"
   ]
  },
  {
   "cell_type": "code",
   "execution_count": 4,
   "metadata": {},
   "outputs": [
    {
     "name": "stdout",
     "output_type": "stream",
     "text": [
      "Raw Counts\n",
      "0    35754\n",
      "1     2747\n",
      "Name: Cover_Type, dtype: int64\n",
      "\n",
      "Percentages\n",
      "0    0.928651\n",
      "1    0.071349\n",
      "Name: Cover_Type, dtype: float64\n"
     ]
    }
   ],
   "source": [
    "# Run this cell without changes\n",
    "print(\"Raw Counts\")\n",
    "print(df[\"Cover_Type\"].value_counts())\n",
    "print()\n",
    "print(\"Percentages\")\n",
    "print(df[\"Cover_Type\"].value_counts(normalize=True))"
   ]
  },
  {
   "cell_type": "markdown",
   "metadata": {},
   "source": [
    "Thus, a baseline model that always chose the majority class would have an accuracy of over 92%. Therefore we will want to report additional metrics at the end."
   ]
  },
  {
   "cell_type": "markdown",
   "metadata": {},
   "source": [
    "### Previous Best Model\n",
    "\n",
    "In a previous lab, we used SMOTE to create additional synthetic data, then tuned the hyperparameters of a logistic regression model to get the following final model metrics:\n",
    "\n",
    "* **Log loss:** 0.13031294393913376\n",
    "* **Accuracy:** 0.9456679825472678\n",
    "* **Precision:** 0.6659919028340081\n",
    "* **Recall:** 0.47889374090247455\n",
    "\n",
    "In this lab, you will try to beat those scores using more-complex, nonparametric models.\n",
    "\n",
    "### Modeling\n",
    "\n",
    "Although you may be aware of some additional model algorithms available from scikit-learn, for this lab you will be focusing on two of them: k-nearest neighbors and decision trees. Here are some reminders about these models:\n",
    "\n",
    "#### kNN - [documentation here](https://scikit-learn.org/stable/modules/generated/sklearn.neighbors.KNeighborsClassifier.html)\n",
    "\n",
    "This algorithm — unlike linear models or tree-based models — does not emphasize learning the relationship between the features and the target. Instead, for a given test record, it finds the most similar records in the training set and returns an average of their target values.\n",
    "\n",
    "* **Training speed:** Fast. In theory it's just saving the training data for later, although the scikit-learn implementation has some additional logic \"under the hood\" to make prediction faster.\n",
    "* **Prediction speed:** Very slow. The model has to look at every record in the training set to find the k closest to the new record.\n",
    "* **Requires scaling:** Yes. The algorithm to find the nearest records is distance-based, so it matters that distances are all on the same scale.\n",
    "* **Key hyperparameters:** `n_neighbors` (how many nearest neighbors to find; too few neighbors leads to overfitting, too many leads to underfitting), `p` and `metric` (what kind of distance to use in defining \"nearest\" neighbors)\n",
    "\n",
    "#### Decision Trees - [documentation here](https://scikit-learn.org/stable/modules/generated/sklearn.tree.DecisionTreeClassifier.html)\n",
    "\n",
    "Similar to linear models (and unlike kNN), this algorithm emphasizes learning the relationship between the features and the target. However, unlike a linear model that tries to find linear relationships between each of the features and the target, decision trees look for ways to split the data based on features to decrease the entropy of the target in each split.\n",
    "\n",
    "* **Training speed:** Slow. The model is considering splits based on as many as all of the available features, and it can split on the same feature multiple times. This requires exponential computational time that increases based on the number of columns as well as the number of rows.\n",
    "* **Prediction speed:** Medium fast. Producing a prediction with a decision tree means applying several conditional statements, which is slower than something like logistic regression but faster than kNN.\n",
    "* **Requires scaling:** No. This model is not distance-based. You also can use a `LabelEncoder` rather than `OneHotEncoder` for categorical data, since this algorithm doesn't necessarily assume that the distance between `1` and `2` is the same as the distance between `2` and `3`.\n",
    "* **Key hyperparameters:** Many features relating to \"pruning\" the tree. By default they are set so the tree can overfit, and by setting them higher or lower (depending on the hyperparameter) you can reduce overfitting, but too much will lead to underfitting. These are: `max_depth`, `min_samples_split`, `min_samples_leaf`, `min_weight_fraction_leaf`, `max_features`, `max_leaf_nodes`, and `min_impurity_decrease`. You can also try changing the `criterion` to \"entropy\" or the `splitter` to \"random\" if you want to change the splitting logic."
   ]
  },
  {
   "cell_type": "markdown",
   "metadata": {},
   "source": [
    "### Requirements\n",
    "\n",
    "#### 1. Prepare the Data for Modeling\n",
    "\n",
    "#### 2. Build a Baseline kNN Model\n",
    "\n",
    "#### 3. Build Iterative Models to Find the Best kNN Model\n",
    "\n",
    "#### 4. Build a Baseline Decision Tree Model\n",
    "\n",
    "#### 5. Build Iterative Models to Find the Best Decision Tree Model\n",
    "\n",
    "#### 6. Choose and Evaluate an Overall Best Model"
   ]
  },
  {
   "cell_type": "markdown",
   "metadata": {},
   "source": [
    "## 1. Prepare the Data for Modeling\n",
    "\n",
    "The target is `Cover_Type`. In the cell below, split `df` into `X` and `y`, then perform a train-test split with `random_state=42` and `stratify=y` to create variables with the standard `X_train`, `X_test`, `y_train`, `y_test` names.\n",
    "\n",
    "Include the relevant imports as you go."
   ]
  },
  {
   "cell_type": "code",
   "execution_count": 8,
   "metadata": {},
   "outputs": [],
   "source": [
    "# Your code here\n",
    "from sklearn.model_selection import train_test_split\n",
    "\n",
    "y = df[\"Cover_Type\"]\n",
    "X = df.drop(\"Cover_Type\", axis = 1)\n",
    "\n",
    "X_train, X_test, y_train, y_test = train_test_split(X,y, \n",
    "                                                    random_state = 42,\n",
    "                                                   stratify = y)\n"
   ]
  },
  {
   "cell_type": "markdown",
   "metadata": {},
   "source": [
    "Now, instantiate a `StandardScaler`, fit it on `X_train`, and create new variables `X_train_scaled` and `X_test_scaled` containing values transformed with the scaler."
   ]
  },
  {
   "cell_type": "code",
   "execution_count": 10,
   "metadata": {},
   "outputs": [],
   "source": [
    "# Your code here\n",
    "from sklearn.preprocessing import StandardScaler\n",
    "\n",
    "scaler = StandardScaler()\n",
    "X_train_scaled = scaler.fit_transform(X_train)\n",
    "X_test_scaled = scaler.transform(X_test)"
   ]
  },
  {
   "cell_type": "markdown",
   "metadata": {},
   "source": [
    "The following code checks that everything is set up correctly:"
   ]
  },
  {
   "cell_type": "code",
   "execution_count": 11,
   "metadata": {},
   "outputs": [],
   "source": [
    "# Run this cell without changes\n",
    "\n",
    "# Checking that df was separated into correct X and y\n",
    "assert type(X) == pd.DataFrame and X.shape == (38501, 52)\n",
    "assert type(y) == pd.Series and y.shape == (38501,)\n",
    "\n",
    "# Checking the train-test split\n",
    "assert type(X_train) == pd.DataFrame and X_train.shape == (28875, 52)\n",
    "assert type(X_test) == pd.DataFrame and X_test.shape == (9626, 52)\n",
    "assert type(y_train) == pd.Series and y_train.shape == (28875,)\n",
    "assert type(y_test) == pd.Series and y_test.shape == (9626,)\n",
    "\n",
    "# Checking the scaling\n",
    "assert X_train_scaled.shape == X_train.shape\n",
    "assert round(X_train_scaled[0][0], 3) == -0.636\n",
    "assert X_test_scaled.shape == X_test.shape\n",
    "assert round(X_test_scaled[0][0], 3) == -1.370"
   ]
  },
  {
   "cell_type": "markdown",
   "metadata": {},
   "source": [
    "## 2. Build a Baseline kNN Model\n",
    "\n",
    "Build a scikit-learn kNN model with default hyperparameters. Then use `cross_val_score` with `scoring=\"neg_log_loss\"` to find the mean log loss for this model (passing in `X_train_scaled` and `y_train` to `cross_val_score`). You'll need to find the mean of the cross-validated scores, and negate the value (either put a `-` at the beginning or multiply by `-1`) so that your answer is a log loss rather than a negative log loss.\n",
    "\n",
    "Call the resulting score `knn_baseline_log_loss`.\n",
    "\n",
    "Your code might take a minute or more to run."
   ]
  },
  {
   "cell_type": "code",
   "execution_count": 13,
   "metadata": {},
   "outputs": [
    {
     "data": {
      "text/plain": [
       "0.1255288892455634"
      ]
     },
     "execution_count": 13,
     "metadata": {},
     "output_type": "execute_result"
    }
   ],
   "source": [
    "# Replace None with appropriate code\n",
    "\n",
    "# Relevant imports\n",
    "\n",
    "from sklearn.neighbors import KNeighborsClassifier\n",
    "from sklearn.model_selection import cross_val_score\n",
    "\n",
    "\n",
    "# Creating the model\n",
    "knn_baseline_model = KNeighborsClassifier()\n",
    "\n",
    "# Perform cross-validation\n",
    "knn_baseline_log_loss = -1*np.mean(cross_val_score(knn_baseline_model,\n",
    "                                       X_train_scaled, \n",
    "                                       y_train,\n",
    "                                       scoring=\"neg_log_loss\"))\n",
    "\n",
    "knn_baseline_log_loss"
   ]
  },
  {
   "cell_type": "code",
   "execution_count": 19,
   "metadata": {},
   "outputs": [
    {
     "name": "stdout",
     "output_type": "stream",
     "text": [
      "Training Score:  0.9897835497835498\n",
      "Test Score : 0.984209432786204\n"
     ]
    }
   ],
   "source": [
    "### From MySelf\n",
    "knn_baseline_model.fit(X_train_scaled, y_train)\n",
    "print(\"Training Score: \", knn_baseline_model.score(X_train_scaled, y_train))\n",
    "print(\"Test Score :\", knn_baseline_model.score(X_test_scaled, y_test))"
   ]
  },
  {
   "cell_type": "markdown",
   "metadata": {},
   "source": [
    "Our best logistic regression model had a log loss of 0.13031294393913376\n",
    "\n",
    "Is this model better? Compare it in terms of metrics and speed."
   ]
  },
  {
   "cell_type": "code",
   "execution_count": 14,
   "metadata": {},
   "outputs": [
    {
     "data": {
      "text/plain": [
       "'\\nOur log loss is better with the vanilla (un-tuned) kNN model\\nthan it was with the tuned logistic regression model\\n\\nIt was also much slower, taking around a minute to complete\\nthe cross-validation on this machine\\n\\nIt depends on the business case whether this is really a better\\nmodel\\n'"
      ]
     },
     "execution_count": 14,
     "metadata": {},
     "output_type": "execute_result"
    }
   ],
   "source": [
    "# Replace None with appropriate text\n",
    "\"\"\"\n",
    "Our score is 0.1255 which is smaller than 0.1303 so our untuned kNN model\n",
    "performs better than our tunned Logistic Regression Model. However, the current\n",
    "model is slower\n",
    "\"\"\"\n",
    "\n",
    "# ## From GH\n",
    "\n",
    "# \"\"\"\n",
    "# Our log loss is better with the vanilla (un-tuned) kNN model\n",
    "# than it was with the tuned logistic regression model\n",
    "\n",
    "# It was also much slower, taking around a minute to complete\n",
    "# the cross-validation on this machine\n",
    "\n",
    "# It depends on the business case whether this is really a better\n",
    "# model\n",
    "# \"\"\""
   ]
  },
  {
   "cell_type": "markdown",
   "metadata": {},
   "source": [
    "## 3. Build Iterative Models to Find the Best kNN Model\n",
    "\n",
    "Build and evaluate at least two more kNN models to find the best one. Explain why you are changing the hyperparameters you are changing as you go. These models will be *slow* to run, so be thinking about what you might try next as you run them."
   ]
  },
  {
   "cell_type": "code",
   "execution_count": 20,
   "metadata": {},
   "outputs": [
    {
     "data": {
      "text/plain": [
       "0.078613760394212"
      ]
     },
     "execution_count": 20,
     "metadata": {},
     "output_type": "execute_result"
    }
   ],
   "source": [
    "# ## GH\n",
    "# \"\"\"\n",
    "# Your work will not look identical to this, and that is ok!\n",
    "# The goal is that there should be an explanation for \n",
    "# everything you try, and accurate reporting on the outcome\n",
    "# \"\"\"\n",
    "\n",
    "# \"\"\"\n",
    "# Maybe we are overfitting, since the default neighbors of 5\n",
    "# seems small compared to the large number of records in this\n",
    "# dataset. Let's increase that number of neighbors 10x to see\n",
    "# if it improves the results.\n",
    "# \"\"\"\n",
    "\n",
    "# Your code here (add more cells as needed)\n",
    "\n",
    "# Creating the model\n",
    "knn_baseline_model_1 = KNeighborsClassifier(n_neighbors=50)\n",
    "\n",
    "# Perform cross-validation\n",
    "knn_baseline_log_loss_1 = -1*np.mean(cross_val_score(knn_baseline_model_1,\n",
    "                                       X_train_scaled, \n",
    "                                       y_train,\n",
    "                                       scoring=\"neg_log_loss\"))\n",
    "\n",
    "knn_baseline_log_loss_1\n"
   ]
  },
  {
   "cell_type": "code",
   "execution_count": 21,
   "metadata": {},
   "outputs": [
    {
     "name": "stdout",
     "output_type": "stream",
     "text": [
      "Training Score:  0.9699740259740259\n",
      "Test Score:  0.9690421774361105\n"
     ]
    }
   ],
   "source": [
    "knn_baseline_model_1.fit(X_train_scaled, y_train)\n",
    "print(\"Training Score: \", knn_baseline_model_1.score(X_train_scaled, y_train))\n",
    "print(\"Test Score: \", knn_baseline_model_1.score(X_test_scaled, y_test))"
   ]
  },
  {
   "cell_type": "code",
   "execution_count": null,
   "metadata": {},
   "outputs": [],
   "source": [
    "\"\"\"\n",
    "The Neg-Log-Loss improved much better, but our score compared to the previous\n",
    "model decreased. But it seems that we do not have overffiting\n",
    "\n",
    "\"\"\"\n",
    "\n",
    "# ### GH\n",
    "\n",
    "# \"\"\"\n",
    "# Great, that looks good. What if we keep that number of\n",
    "# neighbors, and change the distance metric from euclidean\n",
    "# to manhattan?\n",
    "# \"\"\""
   ]
  },
  {
   "cell_type": "code",
   "execution_count": 22,
   "metadata": {},
   "outputs": [
    {
     "data": {
      "text/plain": [
       "0.07621145166565102"
      ]
     },
     "execution_count": 22,
     "metadata": {},
     "output_type": "execute_result"
    }
   ],
   "source": [
    "# Your code here (add more cells as needed)\n",
    "\n",
    "# Creating the model\n",
    "knn_baseline_model_2 = KNeighborsClassifier(n_neighbors=50, metric = \"manhattan\" )\n",
    "\n",
    "# Perform cross-validation\n",
    "knn_baseline_log_loss_2 = -1*np.mean(cross_val_score(knn_baseline_model_2,\n",
    "                                       X_train_scaled, \n",
    "                                       y_train,\n",
    "                                       scoring=\"neg_log_loss\"))\n",
    "\n",
    "knn_baseline_log_loss_2"
   ]
  },
  {
   "cell_type": "code",
   "execution_count": 23,
   "metadata": {},
   "outputs": [
    {
     "name": "stdout",
     "output_type": "stream",
     "text": [
      "Training Score:  0.9719480519480519\n",
      "Test Score:  0.9716393102015375\n"
     ]
    }
   ],
   "source": [
    "knn_baseline_model_2.fit(X_train_scaled, y_train)\n",
    "print(\"Training Score: \", knn_baseline_model_2.score(X_train_scaled, y_train))\n",
    "print(\"Test Score: \", knn_baseline_model_2.score(X_test_scaled, y_test))"
   ]
  },
  {
   "cell_type": "code",
   "execution_count": 27,
   "metadata": {},
   "outputs": [
    {
     "data": {
      "text/plain": [
       "\"\\nOk, slightly better but it's a much smaller difference now.\\n\\nMaybe we can get even better performance by increasing the\\nnumber of neighbors again.\\n\""
      ]
     },
     "execution_count": 27,
     "metadata": {},
     "output_type": "execute_result"
    }
   ],
   "source": [
    "\"\"\"\n",
    "Log Loss is almost the same but scores are slightly better than previous one\n",
    "but still our base model is better in score values but not in Log-Loss score\n",
    "\"\"\"\n",
    "\n",
    "# ### GH\n",
    "\n",
    "# \"\"\"\n",
    "# Ok, slightly better but it's a much smaller difference now.\n",
    "\n",
    "# Maybe we can get even better performance by increasing the\n",
    "# number of neighbors again.\n",
    "# \"\"\""
   ]
  },
  {
   "cell_type": "code",
   "execution_count": 26,
   "metadata": {},
   "outputs": [
    {
     "name": "stdout",
     "output_type": "stream",
     "text": [
      "Log Loss: 0.08591231255583043\n",
      "Training Score:  0.9685541125541125\n",
      "Test Score:  0.9689382921254934\n"
     ]
    }
   ],
   "source": [
    "# Your code here (add more cells as needed)\n",
    "\n",
    "# Creating the model\n",
    "knn_baseline_model_3 = KNeighborsClassifier(n_neighbors=75, metric = \"manhattan\" )\n",
    "\n",
    "# Perform cross-validation\n",
    "knn_baseline_log_loss_3 = -1*np.mean(cross_val_score(knn_baseline_model_3,\n",
    "                                       X_train_scaled, \n",
    "                                       y_train,\n",
    "                                       scoring=\"neg_log_loss\"))\n",
    "\n",
    "print(\"Log Loss:\", knn_baseline_log_loss_3)\n",
    "\n",
    "knn_baseline_model_3.fit(X_train_scaled, y_train)\n",
    "print(\"Training Score: \", knn_baseline_model_3.score(X_train_scaled, y_train))\n",
    "print(\"Test Score: \", knn_baseline_model_3.score(X_test_scaled, y_test))"
   ]
  },
  {
   "cell_type": "code",
   "execution_count": null,
   "metadata": {},
   "outputs": [],
   "source": [
    "# ### From GH\n",
    "\n",
    "# \"\"\"\n",
    "# While this was still better than when n_neighbors was 5\n",
    "# (the default), it's worse than n_neighbors being 50\n",
    "\n",
    "# If we were to build more models, we would probably start\n",
    "# investigating the space between 5 and 50 neighbors to find\n",
    "# the best number, but for now we'll just stop and say that\n",
    "# knn_third_model is our best one.\n",
    "# \"\"\""
   ]
  },
  {
   "cell_type": "markdown",
   "metadata": {},
   "source": [
    "## 4. Build a Baseline Decision Tree Model\n",
    "\n",
    "Now that you have chosen your best kNN model, start investigating decision tree models. First, build and evaluate a baseline decision tree model, using default hyperparameters (with the exception of `random_state=42` for reproducibility).\n",
    "\n",
    "(Use cross-validated log loss, just like with the previous models.)"
   ]
  },
  {
   "cell_type": "code",
   "execution_count": 29,
   "metadata": {},
   "outputs": [
    {
     "name": "stdout",
     "output_type": "stream",
     "text": [
      "Log Loss: 0.7045390124149022\n",
      "Training Score: 1.0\n",
      "Test Score: 0.9782879700810305\n"
     ]
    }
   ],
   "source": [
    "# Your code here\n",
    "from sklearn.tree import DecisionTreeClassifier\n",
    "from sklearn.model_selection import cross_val_score\n",
    "\n",
    "\n",
    "# Creating the model\n",
    "tree_baseline_model = DecisionTreeClassifier(random_state=42)\n",
    "\n",
    "# Perform cross-validation\n",
    "tree_baseline_log_loss = -1*np.mean(cross_val_score(tree_baseline_model,\n",
    "                                       X_train, \n",
    "                                       y_train,\n",
    "                                       scoring=\"neg_log_loss\"))\n",
    "\n",
    "print(\"Log Loss:\", tree_baseline_log_loss)\n",
    "tree_baseline_model.fit(X_train, y_train)\n",
    "print(\"Training Score:\", tree_baseline_model.score(X_train, y_train))\n",
    "print(\"Test Score:\", tree_baseline_model.score(X_test, y_test))"
   ]
  },
  {
   "cell_type": "markdown",
   "metadata": {},
   "source": [
    "Interpret this score. How does this compare to the log loss from our best logistic regression and best kNN models? Any guesses about why?"
   ]
  },
  {
   "cell_type": "code",
   "execution_count": null,
   "metadata": {},
   "outputs": [],
   "source": [
    "# Replace None with appropriate text\n",
    "\"\"\"\n",
    "Our Log Loss for this model is much higher than our best kNN model but it is \n",
    "much faster\n",
    "\"\"\"\n",
    "\n",
    "# ### GH\n",
    "# \"\"\"\n",
    "# This is much worse than either the logistic regression or the\n",
    "# kNN models. We can probably assume that the model is badly\n",
    "# overfitting, since we have not \"pruned\" it at all.\n",
    "# \"\"\""
   ]
  },
  {
   "cell_type": "markdown",
   "metadata": {},
   "source": [
    "## 5. Build Iterative Models to Find the Best Decision Tree Model\n",
    "\n",
    "Build and evaluate at least two more decision tree models to find the best one. Explain why you are changing the hyperparameters you are changing as you go."
   ]
  },
  {
   "cell_type": "code",
   "execution_count": 30,
   "metadata": {},
   "outputs": [
    {
     "name": "stdout",
     "output_type": "stream",
     "text": [
      "Log Loss: 0.11887320104683834\n",
      "Training Score: 0.9683809523809523\n",
      "Test Score: 0.9674838977768544\n"
     ]
    }
   ],
   "source": [
    "# Your code here (add more cells as needed)\n",
    "# Creating the model\n",
    "tree_baseline_model_1 = DecisionTreeClassifier(random_state=42, max_depth = 5)\n",
    "\n",
    "# Perform cross-validation\n",
    "tree_baseline_log_loss_1 = -1*np.mean(cross_val_score(tree_baseline_model_1,\n",
    "                                       X_train, \n",
    "                                       y_train,\n",
    "                                       scoring=\"neg_log_loss\"))\n",
    "\n",
    "print(\"Log Loss:\", tree_baseline_log_loss_1)\n",
    "tree_baseline_model_1.fit(X_train, y_train)\n",
    "print(\"Training Score:\", tree_baseline_model_1.score(X_train, y_train))\n",
    "print(\"Test Score:\", tree_baseline_model_1.score(X_test, y_test))"
   ]
  },
  {
   "cell_type": "code",
   "execution_count": 44,
   "metadata": {},
   "outputs": [
    {
     "name": "stdout",
     "output_type": "stream",
     "text": [
      "Log Loss: 0.11611292651380065\n",
      "Training Score: 0.9681385281385282\n",
      "Test Score: 0.9672761271556202\n"
     ]
    }
   ],
   "source": [
    "# Your code here (add more cells as needed)\n",
    "# Your code here (add more cells as needed)\n",
    "# Creating the model\n",
    "tree_baseline_model_2 = DecisionTreeClassifier(random_state=42, \n",
    "                                               max_depth = 5,\n",
    "                                               min_samples_leaf = 10)\n",
    "\n",
    "# Perform cross-validation\n",
    "tree_baseline_log_loss_2 = -1*np.mean(cross_val_score(tree_baseline_model_2,\n",
    "                                       X_train, \n",
    "                                       y_train,\n",
    "                                       scoring=\"neg_log_loss\"))\n",
    "\n",
    "print(\"Log Loss:\", tree_baseline_log_loss_2)\n",
    "\n",
    "tree_baseline_model_2.fit(X_train, y_train)\n",
    "print(\"Training Score:\", tree_baseline_model_2.score(X_train, y_train))\n",
    "print(\"Test Score:\", tree_baseline_model_2.score(X_test, y_test))"
   ]
  },
  {
   "cell_type": "code",
   "execution_count": 42,
   "metadata": {},
   "outputs": [
    {
     "name": "stdout",
     "output_type": "stream",
     "text": [
      "Log Loss: 0.13012531033354707\n",
      "Training Score: 0.9596883116883117\n",
      "Test Score: 0.9588614169956368\n"
     ]
    }
   ],
   "source": [
    "# Your code here (add more cells as needed)\n",
    "# Your code here (add more cells as needed)\n",
    "# Creating the model\n",
    "tree_baseline_model_3 = DecisionTreeClassifier(random_state=42, max_depth = 4)\n",
    "\n",
    "# Perform cross-validation\n",
    "tree_baseline_log_loss_3 = -1*np.mean(cross_val_score(tree_baseline_model_3,\n",
    "                                       X_train, \n",
    "                                       y_train,\n",
    "                                       scoring=\"neg_log_loss\"))\n",
    "\n",
    "print(\"Log Loss:\", tree_baseline_log_loss_3)\n",
    "tree_baseline_model_3.fit(X_train, y_train)\n",
    "print(\"Training Score:\", tree_baseline_model_3.score(X_train, y_train))\n",
    "print(\"Test Score:\", tree_baseline_model_3.score(X_test, y_test))"
   ]
  },
  {
   "cell_type": "code",
   "execution_count": 45,
   "metadata": {},
   "outputs": [
    {
     "data": {
      "text/plain": [
       "0.28719567271672036"
      ]
     },
     "execution_count": 45,
     "metadata": {},
     "output_type": "execute_result"
    }
   ],
   "source": [
    "### GH\n",
    "\n",
    "# \"\"\"\n",
    "# There are a lot of ways to reduce overfitting in this\n",
    "# model, so it can be overwhelming to choose which one\n",
    "# to try!\n",
    "\n",
    "# Let's start with increasing min_samples_leaf by an\n",
    "# order of magnitude. This is conceptually the most \n",
    "# similar to increasing the number of neighbors, although\n",
    "# the process for determining similarity of neighbors and\n",
    "# samples in the same leaf is quite different.\n",
    "# \"\"\"\n",
    "\n",
    "dtree_second_model = DecisionTreeClassifier(random_state=42, min_samples_leaf=10)\n",
    "\n",
    "dtree_second_log_loss = -cross_val_score(dtree_second_model, \n",
    "                                         X_train, y_train,\n",
    "                                         scoring=\"neg_log_loss\").mean()\n",
    "dtree_second_log_loss"
   ]
  },
  {
   "cell_type": "code",
   "execution_count": 46,
   "metadata": {},
   "outputs": [
    {
     "data": {
      "text/plain": [
       "0.11894015917756935"
      ]
     },
     "execution_count": 46,
     "metadata": {},
     "output_type": "execute_result"
    }
   ],
   "source": [
    "#### GH\n",
    "\n",
    "# \"\"\"\n",
    "# Ok, increasing the minimum samples per leaf from 1 to 10\n",
    "# helped reduce overfitting. What if we increase them again?\n",
    "# \"\"\"\n",
    "\n",
    "dtree_third_model = DecisionTreeClassifier(random_state=42, min_samples_leaf=100)\n",
    "\n",
    "dtree_third_log_loss = -cross_val_score(dtree_third_model, \n",
    "                                        X_train, y_train, \n",
    "                                        scoring=\"neg_log_loss\").mean()\n",
    "dtree_third_log_loss"
   ]
  },
  {
   "cell_type": "code",
   "execution_count": 47,
   "metadata": {},
   "outputs": [
    {
     "data": {
      "text/plain": [
       "0.20808868577091694"
      ]
     },
     "execution_count": 47,
     "metadata": {},
     "output_type": "execute_result"
    }
   ],
   "source": [
    "### GH\n",
    "\n",
    "# \"\"\"\n",
    "# Now we are getting scores in the same range as the best\n",
    "# logistic regression model or the baseline kNN model\n",
    "\n",
    "# Wait, we just realized that this is a very imbalanced dataset,\n",
    "# but we haven't told the model that. Let's try using the same\n",
    "# min_samples_leaf as before, and also specifying the class weight\n",
    "# \"\"\"\n",
    "\n",
    "dtree_fourth_model = DecisionTreeClassifier(random_state=42, \n",
    "                                            min_samples_leaf=100, \n",
    "                                            class_weight=\"balanced\")\n",
    "\n",
    "dtree_fourth_log_loss = -cross_val_score(dtree_fourth_model, \n",
    "                                         X_train, y_train, \n",
    "                                         scoring=\"neg_log_loss\").mean()\n",
    "dtree_fourth_log_loss"
   ]
  },
  {
   "cell_type": "code",
   "execution_count": 48,
   "metadata": {},
   "outputs": [
    {
     "data": {
      "text/plain": [
       "0.14254711982373908"
      ]
     },
     "execution_count": 48,
     "metadata": {},
     "output_type": "execute_result"
    }
   ],
   "source": [
    "### GH\n",
    "\n",
    "# \"\"\"\n",
    "# Oh well, sometimes that backfires when the model overcompensates\n",
    "# trying to create the right balance. We'll leave off the\n",
    "# class_weight hyperparameter for now.\n",
    "\n",
    "# We also notice that this dataset has a lot of dimensions. What if\n",
    "# we limit the number of features that can be used in a given split,\n",
    "# while keeping min_samples_leaf the same?\n",
    "# \"\"\"\n",
    "\n",
    "dtree_fifth_model = DecisionTreeClassifier(random_state=42, \n",
    "                                           min_samples_leaf=100, \n",
    "                                           max_features=\"sqrt\")\n",
    "\n",
    "dtree_fifth_log_loss = -cross_val_score(dtree_fifth_model,\n",
    "                                        X_train, y_train, \n",
    "                                        scoring=\"neg_log_loss\").mean()\n",
    "dtree_fifth_log_loss"
   ]
  },
  {
   "cell_type": "code",
   "execution_count": 49,
   "metadata": {},
   "outputs": [
    {
     "data": {
      "text/plain": [
       "0.11510335541930405"
      ]
     },
     "execution_count": 49,
     "metadata": {},
     "output_type": "execute_result"
    }
   ],
   "source": [
    "### GH\n",
    "\n",
    "# \"\"\"\n",
    "# Still not better than dtree_third_model\n",
    "\n",
    "# Let's try one more value for min_samples_leaf\n",
    "# \"\"\"\n",
    "\n",
    "dtree_sixth_model = DecisionTreeClassifier(random_state=42, min_samples_leaf=75)\n",
    "\n",
    "dtree_sixth_log_loss = -cross_val_score(dtree_sixth_model,\n",
    "                                        X_train, y_train, \n",
    "                                        scoring=\"neg_log_loss\").mean()\n",
    "dtree_sixth_log_loss"
   ]
  },
  {
   "cell_type": "code",
   "execution_count": 50,
   "metadata": {},
   "outputs": [],
   "source": [
    "### From GitHub\n",
    "\n",
    "# \"\"\"\n",
    "# That looks good. Maybe in the future we would do something more\n",
    "# systematic (like a grid search) but for now we'll say that the\n",
    "# sixth model is the best one of the decision tree models\n",
    "# \"\"\""
   ]
  },
  {
   "cell_type": "markdown",
   "metadata": {},
   "source": [
    "## 6. Choose and Evaluate an Overall Best Model\n",
    "\n",
    "Which model had the best performance? What type of model was it?\n",
    "\n",
    "Instantiate a variable `final_model` using your best model with the best hyperparameters."
   ]
  },
  {
   "cell_type": "code",
   "execution_count": 51,
   "metadata": {},
   "outputs": [
    {
     "data": {
      "text/plain": [
       "KNeighborsClassifier(metric='manhattan', n_neighbors=50)"
      ]
     },
     "execution_count": 51,
     "metadata": {},
     "output_type": "execute_result"
    }
   ],
   "source": [
    "# Replace None with appropriate code\n",
    "final_model = KNeighborsClassifier(n_neighbors=50, metric=\"manhattan\")\n",
    "\n",
    "# Fit the model on the full training data\n",
    "# (scaled or unscaled depending on the model)\n",
    "final_model.fit(X_train_scaled, y_train)"
   ]
  },
  {
   "cell_type": "markdown",
   "metadata": {},
   "source": [
    "Now, evaluate the log loss, accuracy, precision, and recall. This code is mostly filled in for you, but you need to replace `None` with either `X_test` or `X_test_scaled` depending on the model you chose."
   ]
  },
  {
   "cell_type": "code",
   "execution_count": 53,
   "metadata": {},
   "outputs": [
    {
     "name": "stdout",
     "output_type": "stream",
     "text": [
      "log loss:  0.07491819679665564\n",
      "accuracy:  0.9716393102015375\n",
      "precision: 0.8876404494382022\n",
      "recall:    0.6899563318777293\n"
     ]
    }
   ],
   "source": [
    "# Replace None with appropriate code\n",
    "from sklearn.metrics import accuracy_score, precision_score, recall_score, log_loss\n",
    "\n",
    "preds = final_model.predict(X_test_scaled)\n",
    "probs = final_model.predict_proba(X_test_scaled)\n",
    "\n",
    "print(\"log loss: \", log_loss(y_test, probs))\n",
    "print(\"accuracy: \", accuracy_score(y_test, preds))\n",
    "print(\"precision:\", precision_score(y_test, preds))\n",
    "print(\"recall:   \", recall_score(y_test, preds))"
   ]
  },
  {
   "cell_type": "markdown",
   "metadata": {},
   "source": [
    "Interpret your model performance. How would it perform on different kinds of tasks? How much better is it than a \"dummy\" model that always chooses the majority class, or the logistic regression described at the start of the lab?"
   ]
  },
  {
   "cell_type": "code",
   "execution_count": null,
   "metadata": {},
   "outputs": [],
   "source": [
    "# Replace None with appropriate text\n",
    "\n",
    "\n",
    "# \"\"\"\n",
    "# This model has 97% accuracy, meaning that it assigns the\n",
    "# correct label 97% of the time. This is definitely an \n",
    "# improvement over a \"dummy\" model, which would have about\n",
    "# 92% accuracy.\n",
    "\n",
    "# If our model labels a given forest area a 1, there is\n",
    "# about an 89% chance that it really is class 1, compared\n",
    "# to about a 67% chance with the logistic regression\n",
    "\n",
    "# The recall score is also improved from the logistic\n",
    "# regression model. If a given cell of forest really is\n",
    "# class 1, there is about a 69% chance that our model\n",
    "# will label it correctly. This is better than the 48%\n",
    "# of the logistic regression model, but still doesn't\n",
    "# instill a lot of confidence. If the business really \n",
    "# cared about avoiding \"false negatives\" (labeling\n",
    "# cottonwood/willow as ponderosa pine) more so than\n",
    "# avoiding \"false positives\" (labeling ponderosa pine\n",
    "# as cottonwood/willow), then we might want to adjust\n",
    "# the decision threshold on this\n",
    "# \"\"\""
   ]
  },
  {
   "cell_type": "markdown",
   "metadata": {},
   "source": [
    "## Conclusion\n",
    "\n",
    "In this lab, you practiced the end-to-end machine learning process with multiple model algorithms, including tuning the hyperparameters for those different algorithms. You saw how nonparametric models can be more flexible than linear models, potentially leading to overfitting but also potentially reducing underfitting by being able to learn non-linear relationships between variables. You also likely saw how there can be a tradeoff between speed and performance, with good metrics correlating with slow speeds."
   ]
  },
  {
   "cell_type": "markdown",
   "metadata": {},
   "source": [
    "# For My Practice:\n",
    "\n",
    "Here I am going to work with other Ensemble methods such as `Random Forest` and `XGBoost` and I will search grid to find the best match.\n"
   ]
  },
  {
   "cell_type": "code",
   "execution_count": 58,
   "metadata": {},
   "outputs": [],
   "source": [
    "from sklearn.model_selection import cross_val_score\n",
    "from sklearn.ensemble import RandomForestClassifier, BaggingClassifier\n",
    "from sklearn.model_selection import GridSearchCV\n",
    "from sklearn.metrics import accuracy_score, precision_score, recall_score, log_loss\n",
    "\n",
    "from xgboost import XGBClassifier\n",
    "\n",
    "import warnings\n",
    "warnings.filterwarnings('ignore')\n",
    "\n"
   ]
  },
  {
   "cell_type": "markdown",
   "metadata": {},
   "source": [
    "## Bagged Tree"
   ]
  },
  {
   "cell_type": "code",
   "execution_count": 65,
   "metadata": {},
   "outputs": [
    {
     "name": "stdout",
     "output_type": "stream",
     "text": [
      "Log Loss: 0.050236130156247505\n",
      "Traninig Score: 0.9923116883116884\n",
      "Test Score: 0.9821317265738625\n",
      "\n",
      "log loss:  0.05109993543837824\n",
      "accuracy:  0.9821317265738625\n",
      "precision: 0.8837555886736215\n",
      "recall:    0.8631732168850073\n"
     ]
    }
   ],
   "source": [
    "bagged_tree = BaggingClassifier(\n",
    "                DecisionTreeClassifier(criterion=\"gini\",\n",
    "                max_depth = 10),\n",
    "                n_estimators =50\n",
    ")\n",
    "\n",
    "bagged_tree_log_loss = -cross_val_score(bagged_tree,\n",
    "                                        X_train, y_train, \n",
    "                                        scoring=\"neg_log_loss\").mean()\n",
    "\n",
    "\n",
    "bagged_tree.fit(X_train, y_train)\n",
    "\n",
    "print(\"Log Loss:\", bagged_tree_log_loss)\n",
    "print(\"Traninig Score:\", bagged_tree.score(X_train, y_train))\n",
    "print(\"Test Score:\", bagged_tree.score(X_test, y_test))\n",
    "\n",
    "print()\n",
    "\n",
    "preds_bagged = bagged_tree.predict(X_test)\n",
    "probs_bagged = bagged_tree.predict_proba(X_test)\n",
    "\n",
    "print(\"log loss: \", log_loss(y_test, probs_bagged))\n",
    "print(\"accuracy: \", accuracy_score(y_test, preds_bagged))\n",
    "print(\"precision:\", precision_score(y_test, preds_bagged))\n",
    "print(\"recall:   \", recall_score(y_test, preds_bagged))"
   ]
  },
  {
   "cell_type": "markdown",
   "metadata": {},
   "source": [
    "## Random Forest"
   ]
  },
  {
   "cell_type": "code",
   "execution_count": 66,
   "metadata": {},
   "outputs": [
    {
     "name": "stdout",
     "output_type": "stream",
     "text": [
      "Log Loss: 0.054744034219359916\n",
      "Traninig Score: 0.9968138528138528\n",
      "Test Score: 0.9847288593392894\n",
      "\n",
      "log loss:  0.05151671945972006\n",
      "accuracy:  0.9847288593392894\n",
      "precision: 0.9258675078864353\n",
      "recall:    0.8544395924308588\n"
     ]
    }
   ],
   "source": [
    "forest = RandomForestClassifier(n_estimators=100, max_depth = 15)\n",
    "\n",
    "forest_log_loss = -cross_val_score(forest,\n",
    "                                   X_train, y_train, \n",
    "                                   scoring=\"neg_log_loss\").mean()\n",
    "\n",
    "\n",
    "\n",
    "forest.fit(X_train, y_train)\n",
    "\n",
    "print(\"Log Loss:\", forest_log_loss)\n",
    "print(\"Traninig Score:\", forest.score(X_train, y_train))\n",
    "print(\"Test Score:\", forest.score(X_test, y_test))\n",
    "\n",
    "print()\n",
    "\n",
    "preds_forest = forest.predict(X_test)\n",
    "probs_forest = forest.predict_proba(X_test)\n",
    "\n",
    "print(\"log loss: \", log_loss(y_test, probs_forest))\n",
    "print(\"accuracy: \", accuracy_score(y_test, preds_forest))\n",
    "print(\"precision:\", precision_score(y_test, preds_forest))\n",
    "print(\"recall:   \", recall_score(y_test, preds_forest))"
   ]
  },
  {
   "cell_type": "markdown",
   "metadata": {},
   "source": [
    "## XGBoost"
   ]
  },
  {
   "cell_type": "code",
   "execution_count": 67,
   "metadata": {},
   "outputs": [
    {
     "name": "stdout",
     "output_type": "stream",
     "text": [
      "Log Loss: 0.03402142245556726\n",
      "Traninig Score: 0.9995844155844156\n",
      "Test Score: 0.9877415333471847\n",
      "\n",
      "log loss:  0.03524546260024428\n",
      "accuracy:  0.9877415333471847\n",
      "precision: 0.9153284671532846\n",
      "recall:    0.9126637554585153\n"
     ]
    }
   ],
   "source": [
    "XGB = XGBClassifier()\n",
    "\n",
    "XGB_log_loss = -cross_val_score(XGB,\n",
    "                                   X_train, y_train, \n",
    "                                   scoring=\"neg_log_loss\").mean()\n",
    "\n",
    "\n",
    "\n",
    "XGB.fit(X_train, y_train)\n",
    "\n",
    "print(\"Log Loss:\", XGB_log_loss)\n",
    "print(\"Traninig Score:\", XGB.score(X_train, y_train))\n",
    "print(\"Test Score:\", XGB.score(X_test, y_test))\n",
    "\n",
    "print()\n",
    "\n",
    "preds_XGB = XGB.predict(X_test)\n",
    "probs_XGB = XGB.predict_proba(X_test)\n",
    "\n",
    "print(\"log loss: \", log_loss(y_test, probs_XGB))\n",
    "print(\"accuracy: \", accuracy_score(y_test, preds_XGB))\n",
    "print(\"precision:\", precision_score(y_test, preds_XGB))\n",
    "print(\"recall:   \", recall_score(y_test, preds_XGB))"
   ]
  },
  {
   "cell_type": "markdown",
   "metadata": {},
   "source": [
    "We can see that untuned `XGBClassifier()` gives the best results, so, now I will choose this model and will try to find a best tuning for this model."
   ]
  },
  {
   "cell_type": "markdown",
   "metadata": {},
   "source": [
    "## `GridSearchCV` with `XGBClassifier()`"
   ]
  },
  {
   "cell_type": "code",
   "execution_count": 71,
   "metadata": {},
   "outputs": [
    {
     "name": "stdout",
     "output_type": "stream",
     "text": [
      "Grid Search found the following optimal parameters: \n",
      "learning_rate: 0.2\n",
      "max_depth: 6\n",
      "min_child_weight: 1\n",
      "n_estimators: 100\n",
      "subsample: 0.7\n",
      "\n",
      "Training Accuracy: 99.81%\n",
      "Validation accuracy: 98.78%\n"
     ]
    }
   ],
   "source": [
    "param_grid = {\n",
    "'learning_rate': [0.1, 0.2],\n",
    "'max_depth': [6],\n",
    "'min_child_weight': [1, 2],\n",
    "'subsample': [0.5, 0.7],\n",
    "'n_estimators': [100],\n",
    "            }\n",
    "\n",
    "XGB_tunned = XGBClassifier()\n",
    "\n",
    "grid_clf = GridSearchCV(XGB_tunned, param_grid, \n",
    "                        scoring='accuracy', n_jobs=1, cv = None)\n",
    "\n",
    "grid_clf.fit(X_train, y_train)\n",
    "\n",
    "best_parameters = grid_clf.best_params_\n",
    "\n",
    "print('Grid Search found the following optimal parameters: ')\n",
    "for param_name in sorted(best_parameters.keys()):\n",
    "    print('%s: %r' % (param_name, best_parameters[param_name]))\n",
    "\n",
    "training_preds = grid_clf.predict(X_train)\n",
    "test_preds     = grid_clf.predict(X_test)\n",
    "training_accuracy = accuracy_score(y_train, training_preds)\n",
    "test_accuracy = accuracy_score(y_test, test_preds)\n",
    "\n",
    "print('')\n",
    "print('Training Accuracy: {:.4}%'.format(training_accuracy * 100))\n",
    "print('Validation accuracy: {:.4}%'.format(test_accuracy * 100))"
   ]
  },
  {
   "cell_type": "code",
   "execution_count": 72,
   "metadata": {},
   "outputs": [
    {
     "name": "stdout",
     "output_type": "stream",
     "text": [
      "log loss:  0.03600730954330057\n",
      "accuracy:  0.9878454186578017\n",
      "precision: 0.9094827586206896\n",
      "recall:    0.9213973799126638\n"
     ]
    }
   ],
   "source": [
    "preds_grid_clf = grid_clf.predict(X_test)\n",
    "probs_grid_clf = grid_clf.predict_proba(X_test)\n",
    "\n",
    "print(\"log loss: \", log_loss(y_test, probs_grid_clf))\n",
    "print(\"accuracy: \", accuracy_score(y_test, preds_grid_clf))\n",
    "print(\"precision:\", precision_score(y_test, preds_grid_clf))\n",
    "print(\"recall:   \", recall_score(y_test, preds_grid_clf))"
   ]
  },
  {
   "cell_type": "code",
   "execution_count": 73,
   "metadata": {},
   "outputs": [
    {
     "name": "stdout",
     "output_type": "stream",
     "text": [
      "Log Loss: 0.0355434885308743\n",
      "Traninig Score: 0.9980952380952381\n",
      "Test Score: 0.9878454186578017\n",
      "\n",
      "log loss:  0.03600730954330057\n",
      "accuracy:  0.9878454186578017\n",
      "precision: 0.9094827586206896\n",
      "recall:    0.9213973799126638\n"
     ]
    }
   ],
   "source": [
    "XGB_tunned = XGBClassifier(learning_rate = 0.2,\n",
    "                           max_depth = 6,\n",
    "                           min_child_weight = 1,\n",
    "                           n_estimators = 100,\n",
    "                           subsample = 0.7)\n",
    "\n",
    "XGB_tunned_log_loss = -cross_val_score(XGB_tunned,\n",
    "                                   X_train, y_train, \n",
    "                                   scoring=\"neg_log_loss\").mean()\n",
    "\n",
    "\n",
    "\n",
    "XGB_tunned.fit(X_train, y_train)\n",
    "\n",
    "print(\"Log Loss:\", XGB_tunned_log_loss)\n",
    "print(\"Traninig Score:\", XGB_tunned.score(X_train, y_train))\n",
    "print(\"Test Score:\", XGB_tunned.score(X_test, y_test))\n",
    "\n",
    "print()\n",
    "\n",
    "preds_XGB_tunned = XGB_tunned.predict(X_test)\n",
    "probs_XGB_tunned = XGB_tunned.predict_proba(X_test)\n",
    "\n",
    "print(\"log loss: \", log_loss(y_test, probs_XGB_tunned))\n",
    "print(\"accuracy: \", accuracy_score(y_test, preds_XGB_tunned))\n",
    "print(\"precision:\", precision_score(y_test, preds_XGB_tunned))\n",
    "print(\"recall:   \", recall_score(y_test, preds_XGB_tunned))"
   ]
  },
  {
   "cell_type": "code",
   "execution_count": null,
   "metadata": {},
   "outputs": [],
   "source": []
  }
 ],
 "metadata": {
  "kernelspec": {
   "display_name": "Python (learn-env)",
   "language": "python",
   "name": "learn-env"
  },
  "language_info": {
   "codemirror_mode": {
    "name": "ipython",
    "version": 3
   },
   "file_extension": ".py",
   "mimetype": "text/x-python",
   "name": "python",
   "nbconvert_exporter": "python",
   "pygments_lexer": "ipython3",
   "version": "3.8.5"
  },
  "latex_envs": {
   "LaTeX_envs_menu_present": true,
   "autoclose": false,
   "autocomplete": true,
   "bibliofile": "biblio.bib",
   "cite_by": "apalike",
   "current_citInitial": 1,
   "eqLabelWithNumbers": true,
   "eqNumInitial": 1,
   "hotkeys": {
    "equation": "Ctrl-E",
    "itemize": "Ctrl-I"
   },
   "labels_anchors": false,
   "latex_user_defs": false,
   "report_style_numbering": false,
   "user_envs_cfg": false
  },
  "toc": {
   "base_numbering": 1,
   "nav_menu": {},
   "number_sections": true,
   "sideBar": true,
   "skip_h1_title": false,
   "title_cell": "Table of Contents",
   "title_sidebar": "Contents",
   "toc_cell": false,
   "toc_position": {},
   "toc_section_display": true,
   "toc_window_display": false
  },
  "varInspector": {
   "cols": {
    "lenName": 16,
    "lenType": 16,
    "lenVar": 40
   },
   "kernels_config": {
    "python": {
     "delete_cmd_postfix": "",
     "delete_cmd_prefix": "del ",
     "library": "var_list.py",
     "varRefreshCmd": "print(var_dic_list())"
    },
    "r": {
     "delete_cmd_postfix": ") ",
     "delete_cmd_prefix": "rm(",
     "library": "var_list.r",
     "varRefreshCmd": "cat(var_dic_list()) "
    }
   },
   "types_to_exclude": [
    "module",
    "function",
    "builtin_function_or_method",
    "instance",
    "_Feature"
   ],
   "window_display": false
  }
 },
 "nbformat": 4,
 "nbformat_minor": 4
}
